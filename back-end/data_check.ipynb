{
 "cells": [
  {
   "cell_type": "code",
   "execution_count": null,
   "metadata": {},
   "outputs": [],
   "source": [
    "import pandas as pd\n",
    "\n",
    "# Đọc file Excel\n",
    "file_path = '..\\data\\Data mẫu_TMS_TTC.xlsx'  \n",
    "\n",
    "df = pd.read_excel(file_path)\n",
    "\n",
    "# Hiển thị thông tin tổng quan\n",
    "print(\"===== Tổng quan DataFrame =====\")\n",
    "print(df.info())\n",
    "print(\"\\n===== 5 dòng đầu =====\")\n",
    "print(df.head())\n",
    "\n",
    "# Thống kê mô tả cho các cột số\n",
    "print(\"\\n===== Thống kê mô tả =====\")\n",
    "print(df.describe())\n",
    "\n",
    "# Kiểm tra giá trị thiếu\n",
    "print(\"\\n===== Kiểm tra giá trị thiếu =====\")\n",
    "print(df.isnull().sum())\n",
    "\n",
    "# Đếm tần suất xuất hiện các giá trị trong từng cột object\n",
    "print(\"\\n===== Đếm tần suất cho các cột kiểu object =====\")\n",
    "for col in df.select_dtypes(include='object').columns:\n",
    "    print(f\"\\nTần suất cho cột: {col}\")\n",
    "    print(df[col].value_counts())\n"
   ]
  },
  {
   "cell_type": "code",
   "execution_count": 8,
   "metadata": {},
   "outputs": [
    {
     "name": "stdout",
     "output_type": "stream",
     "text": [
      "Index(['STT', 'Mã chuyến', 'Trạng thái chuyến', 'Mã đơn',\n",
      "       'Mã đơn vị phụ trách đơn hàng', 'Tên đơn vị phụ trách đơn hàng',\n",
      "       'Mã nhà vận tải', 'Tên nhà vận tải', 'Tên tài xế', 'Số xe',\n",
      "       'Mã loại xe', 'Tên loại xe', 'Loại container vận hành', 'Mã NPP',\n",
      "       'Tên NPP', 'Mã điểm lấy', 'Tên điểm lấy', 'Địa chỉ lấy', 'Mã điểm giao',\n",
      "       'Tên điểm giao', 'Địa chỉ giao', 'Tỉnh thành giao', 'Quận huyện giao',\n",
      "       'Phường xã giao', 'Mã Cung đường chuyến', 'Tên Cung đường chuyến',\n",
      "       'KM GPS có hàng', 'KM GPS không hàng', 'KM GPS mobile có hàng',\n",
      "       'KM GPS mobile không hàng', 'KM ma trận có hàng',\n",
      "       'KM ma trận không hàng', 'Mã Nhiên liệu', 'Tên Nhiên liệu',\n",
      "       'Định mức có hàng', 'Định mức không hàng', 'Hệ số phát thải CO2',\n",
      "       'Mã loại tiêu chuẩn Euro', 'Tên loại tiêu chuẩn Euro',\n",
      "       'Hệ số phát thải CO2 của loại tiêu chuẩn Euro', 'ETD chuyến',\n",
      "       'ETA chuyến', 'ATD chuyến', 'ATA chuyến', 'Mã nhóm hàng',\n",
      "       'Tên nhóm hàng', 'Mã hàng hóa', 'Tên hàng hóa', 'Số Seal 1',\n",
      "       'Số Seal 2', 'Số Seal 3', 'Số bill', 'Số booking', 'Tên tàu',\n",
      "       'Hạn lấy cont', 'Hạn trả rỗng', 'Ngày nhận rỗng', 'Ngày hạ cont',\n",
      "       'Ngày tàu đi', 'Ngày tàu đến', 'Mã hãng tàu (Nơi lấy cont)',\n",
      "       'Tên hãng tàu (Nơi lấy cont)', 'Mã hãng tàu (Nơi trả cont)',\n",
      "       'Tên hãng tàu (Nơi trả cont)'],\n",
      "      dtype='object')\n",
      "=== Tổng KM GPS có hàng theo nhóm hàng ===\n",
      "                                         Tên nhóm hàng  KM GPS có hàng\n",
      "0                                            Bar Sugar        0.000000\n",
      "1    Bar Sugar, Brown Sugar, Functional Sugar, Mono...        0.000000\n",
      "2    Bar Sugar, Caramelized, Organic Sugar, Functio...      401.440444\n",
      "3    Bar Sugar, Coconut Cooking Cream, Juice, Funct...       79.428683\n",
      "4    Bar Sugar, Monorock, Coconut Cooking Cream, Fu...        0.000000\n",
      "..                                                 ...             ...\n",
      "796  Sugarcane Drinking Water, Monorock, RS Sugar, ...        0.000000\n",
      "797  Sugarcane Drinking Water, Monorock, RS Sugar, ...        0.000000\n",
      "798  Sugarcane Drinking Water, Organic Sugar, Inver...        0.000000\n",
      "799  Sugarcane Drinking Water, RE Sugar, Juice, Coc...       67.277812\n",
      "800  Sugarcane Drinking Water, RS Sugar, Functional...        0.000000\n",
      "\n",
      "[801 rows x 2 columns]\n",
      "✅ Đã xử lý xong, file kết quả nằm trong folder output.\n"
     ]
    }
   ],
   "source": [
    "import pandas as pd\n",
    "\n",
    "# Đọc file Excel\n",
    "file_path = '../data/Data mẫu_TMS_TTC.xlsx'  # thay tên file thực tế\n",
    "df = pd.read_excel(file_path)\n",
    "\n",
    "# Hiển thị cột để kiểm tra tên\n",
    "print(df.columns)\n",
    "\n",
    "# Tính tổng KM GPS có hàng theo Tên nhóm hàng\n",
    "km_group = df.groupby('Tên nhóm hàng')['KM GPS có hàng'].sum().reset_index()\n",
    "print(\"=== Tổng KM GPS có hàng theo nhóm hàng ===\")\n",
    "print(km_group)\n",
    "\n",
    "# Tính thời gian vận chuyển (giờ)\n",
    "df['ETD chuyến'] = pd.to_datetime(df['ETD chuyến'])\n",
    "df['ATA chuyến'] = pd.to_datetime(df['ATA chuyến'])\n",
    "df['Thời gian vận chuyển (giờ)'] = (df['ATA chuyến'] - df['ETD chuyến']).dt.total_seconds() / 3600\n",
    "\n",
    "# Lưu ra file mới\n",
    "with pd.ExcelWriter('../output/kq_xu_ly.xlsx') as writer:\n",
    "    km_group.to_excel(writer, sheet_name='Tong_KM', index=False)\n",
    "    df[['Mã chuyến', 'Thời gian vận chuyển (giờ)']].to_excel(writer, sheet_name='Thoi_gian', index=False)\n",
    "\n",
    "print(\"✅ Đã xử lý xong, file kết quả nằm trong folder output.\")\n"
   ]
  },
  {
   "cell_type": "code",
   "execution_count": 10,
   "metadata": {},
   "outputs": [
    {
     "name": "stdout",
     "output_type": "stream",
     "text": [
      "✅ Đã lọc xong, dữ liệu sạch để vẽ biểu đồ lưu tại output/du_lieu_sach.csv\n",
      "   Tên nhóm hàng                                            Tên NPP  \\\n",
      "4       RE Sugar                       CÔNG TY TNHH NESTLE VIỆT NAM   \n",
      "7       RE Sugar                CÔNG TY TNHH RICH PRODUCTS VIỆT NAM   \n",
      "8       RE Sugar                       CÔNG TY TNHH NESTLE VIỆT NAM   \n",
      "9       RS Sugar                  CÔNG TY CỔ PHẦN VINACAFÉ BIÊN HÒA   \n",
      "10  Invert Syrup  CHI NHÁNH CÔNG TY CỔ PHẦN DỊCH VỤ CÀ PHÊ CAO N...   \n",
      "\n",
      "    KM GPS có hàng  Thời gian vận chuyển (giờ)  \n",
      "4       479.099335                  759.233333  \n",
      "7       460.526847                  752.633333  \n",
      "8      1360.329024                 2168.333333  \n",
      "9       496.832889                 2172.816667  \n",
      "10       21.113139                  758.666667  \n"
     ]
    }
   ],
   "source": [
    "import pandas as pd\n",
    "\n",
    "# Đọc file\n",
    "file_path = '../data/Data mẫu_TMS_TTC.xlsx'  # thay tên file\n",
    "df = pd.read_excel(file_path)\n",
    "\n",
    "# Xử lý datetime để tính thời gian vận chuyển\n",
    "df['ETD chuyến'] = pd.to_datetime(df['ETD chuyến'], errors='coerce')\n",
    "df['ATA chuyến'] = pd.to_datetime(df['ATA chuyến'], errors='coerce')\n",
    "df['Thời gian vận chuyển (giờ)'] = (df['ATA chuyến'] - df['ETD chuyến']).dt.total_seconds() / 3600\n",
    "\n",
    "# Lọc các chuyến có quãng đường > 0 và thời gian hợp lệ\n",
    "df_filtered = df[\n",
    "    (df['KM GPS có hàng'] > 0) & \n",
    "    (~df['Thời gian vận chuyển (giờ)'].isna())\n",
    "]\n",
    "\n",
    "# Chỉ lấy những cột cần thiết\n",
    "df_filtered = df_filtered[['Tên nhóm hàng', 'Tên NPP', 'KM GPS có hàng', 'Thời gian vận chuyển (giờ)']]\n",
    "\n",
    "# Xuất file CSV (cũng có thể xuất Excel)\n",
    "df_filtered.to_csv('../output/du_lieu_sach.csv', index=False)\n",
    "\n",
    "print(\"✅ Đã lọc xong, dữ liệu sạch để vẽ biểu đồ lưu tại output/du_lieu_sach.csv\")\n",
    "print(df_filtered.head())\n"
   ]
  },
  {
   "cell_type": "code",
   "execution_count": 12,
   "metadata": {},
   "outputs": [
    {
     "name": "stderr",
     "output_type": "stream",
     "text": [
      "<>:3: SyntaxWarning: invalid escape sequence '\\d'\n",
      "<>:3: SyntaxWarning: invalid escape sequence '\\d'\n",
      "C:\\Users\\ASUS\\AppData\\Local\\Temp\\ipykernel_13228\\2171486084.py:3: SyntaxWarning: invalid escape sequence '\\d'\n",
      "  df = pd.read_excel(\"..\\data\\Data mẫu_WMS_TTC.xlsx\", engine='openpyxl')\n"
     ]
    },
    {
     "name": "stdout",
     "output_type": "stream",
     "text": [
      "Index(['MÃ ĐƠN WMS', 'TRẠNG THÁI ĐƠN', 'CHỦ HÀNG', 'LOẠI GIAO DỊCH', 'MÃ PO',\n",
      "       'MÃ ĐƠN PO 2', 'NGÀY NHẬN DỰ KIẾN', 'NGÀY NHẬN THỰC TẾ', 'MÃ HÀNG',\n",
      "       'TÊN HÀNG', 'SỐ LÔ/LOT', 'TRẠNG THÁI HÀNG HÓA', '% SHELF LIFE', 'NSX',\n",
      "       'HSD', 'VỊ TRÍ', 'ĐƠN VỊ', 'ĐƠN VỊ LƯU KHO', 'LPNID', 'MÃ PALLET',\n",
      "       'SL DỰ KIẾN', 'SL THỰC NHẬN', 'GHI CHÚ', 'PASSFLOC', 'MÃ NCC',\n",
      "       'TÊN NCC', 'MÃ NVT', 'SỐ XE', 'TÀI XẾ', 'GROUP OF CAGO', 'STD GROSSWGT',\n",
      "       'EDIT WHO', 'CREATE DATE', 'DETAIL RECEIPT DATE', 'REMARK DETAIL',\n",
      "       'APPROVE', 'DROPLIST1', 'DROPLIST2', 'DROPLIST3', 'DROPLIST4',\n",
      "       'DROPLIST5', 'DROPLIST6', 'DROPLIST7', 'DROPLIST8', 'DROPLIST9',\n",
      "       'DROPLIST10', 'BUSINESSUNITORDER', 'INVORG', 'FROMWHSEID',\n",
      "       'USER DEFINE 9', 'USER DEFINE 10', 'USER DEFINE 11', 'USER DEFINE 12',\n",
      "       'USER DEFINE 13', 'USER DEFINE 14', 'USER DEFINE 15', 'USER DEFINE 16',\n",
      "       'USER DEFINE 17', 'USER DEFINE 18', 'SYNCDATE', 'SYNCMESS',\n",
      "       'SYNCSTATUS', 'TRANSPORTATIONMODE', 'TRANSPORTATIONSERVICE',\n",
      "       'PUTAWAYZONE', 'TRIP ID', 'CARRIER NAME', 'INVOICENO', 'MANUAL',\n",
      "       'VENDORCODE'],\n",
      "      dtype='object')\n"
     ]
    }
   ],
   "source": [
    "import pandas as pd\n",
    "\n",
    "df = pd.read_excel(\"..\\data\\Data mẫu_WMS_TTC.xlsx\", engine='openpyxl')\n",
    "print(df.columns)\n"
   ]
  },
  {
   "cell_type": "code",
   "execution_count": 13,
   "metadata": {},
   "outputs": [
    {
     "name": "stdout",
     "output_type": "stream",
     "text": [
      "✅ Đã xuất file 'du_lieu_sach.csv'\n"
     ]
    }
   ],
   "source": [
    "# Lọc các cột cần thiết\n",
    "df_new = df[[\n",
    "    \"MÃ HÀNG\",\n",
    "    \"TÊN HÀNG\",\n",
    "    \"SL THỰC NHẬN\",\n",
    "    \"ĐƠN VỊ\",\n",
    "    \"STD GROSSWGT\",\n",
    "    \"NSX\",\n",
    "    \"HSD\",\n",
    "    \"GROUP OF CAGO\"\n",
    "]]\n",
    "\n",
    "# Xuất ra CSV\n",
    "df_new.to_csv(\"du_lieu_sach.csv\", index=False, encoding='utf-8-sig')\n",
    "\n",
    "print(\"✅ Đã xuất file 'du_lieu_sach.csv'\")"
   ]
  }
 ],
 "metadata": {
  "kernelspec": {
   "display_name": ".venv",
   "language": "python",
   "name": "python3"
  },
  "language_info": {
   "codemirror_mode": {
    "name": "ipython",
    "version": 3
   },
   "file_extension": ".py",
   "mimetype": "text/x-python",
   "name": "python",
   "nbconvert_exporter": "python",
   "pygments_lexer": "ipython3",
   "version": "3.12.2"
  }
 },
 "nbformat": 4,
 "nbformat_minor": 2
}
